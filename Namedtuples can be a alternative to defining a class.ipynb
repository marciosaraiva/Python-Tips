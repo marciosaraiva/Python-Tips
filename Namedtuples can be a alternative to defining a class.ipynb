{
 "cells": [
  {
   "cell_type": "code",
   "execution_count": null,
   "metadata": {},
   "outputs": [],
   "source": [
    "# Why Python is Great: Namedtuples\n",
    "# Using namedtuple is way shorter than defining a class manually:\n",
    "\n",
    "from collections import namedtuple\n",
    "Car = namedtuple('Car', 'color mileage')\n",
    "\n",
    "# Our new \"Car\" class works as expected:\n",
    "my_car = Car('red', 3812.4)\n",
    "print(my_car.color)\n",
    "\n",
    "print(my_car.mileage)\n",
    "\n",
    "\n",
    "# We get a nice string repr for free:\n",
    "\n",
    "Car(color='red' , mileage=3812.4)\n",
    "\n",
    "# Like tuples, namedtuples are immutable:\n",
    ">>> my_car.color = 'blue'\n",
    "AttributeError: \"can't set attribute\""
   ]
  }
 ],
 "metadata": {
  "kernelspec": {
   "display_name": "Python 3",
   "language": "python",
   "name": "python3"
  },
  "language_info": {
   "codemirror_mode": {
    "name": "ipython",
    "version": 3
   },
   "file_extension": ".py",
   "mimetype": "text/x-python",
   "name": "python",
   "nbconvert_exporter": "python",
   "pygments_lexer": "ipython3",
   "version": "3.6.9"
  }
 },
 "nbformat": 4,
 "nbformat_minor": 2
}
